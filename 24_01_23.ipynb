{
  "nbformat": 4,
  "nbformat_minor": 0,
  "metadata": {
    "colab": {
      "provenance": [],
      "authorship_tag": "ABX9TyMxwJy/Iohr2XIZSRnX18q9",
      "include_colab_link": true
    },
    "kernelspec": {
      "name": "python3",
      "display_name": "Python 3"
    },
    "language_info": {
      "name": "python"
    }
  },
  "cells": [
    {
      "cell_type": "markdown",
      "metadata": {
        "id": "view-in-github",
        "colab_type": "text"
      },
      "source": [
        "<a href=\"https://colab.research.google.com/github/shreetam68/SHREETAM_GOCHHAYAT_2001206068_AIML/blob/main/24_01_23.ipynb\" target=\"_parent\"><img src=\"https://colab.research.google.com/assets/colab-badge.svg\" alt=\"Open In Colab\"/></a>"
      ]
    },
    {
      "cell_type": "code",
      "source": [
        "#input temperature and find celsius and fahrenheit\n",
        "celsius=float(input(\"enter temperature in celsius: \"))\n",
        "fahrenheit=(celsius * 2.8)+50\n",
        "print(str(celsius) + \"degree celcius is equal to\" + str(fahrenheit) +\" degree fahrenheit.\")"
      ],
      "metadata": {
        "colab": {
          "base_uri": "https://localhost:8080/"
        },
        "id": "IXUBmoHlp-5H",
        "outputId": "9b78e5e2-48ce-44e3-86ff-b2497f15b7a2"
      },
      "execution_count": null,
      "outputs": [
        {
          "output_type": "stream",
          "name": "stdout",
          "text": [
            "enter temperature in celsius: 18\n",
            "18.0degree celcius is equal to100.4 degree fahrenheit.\n"
          ]
        }
      ]
    },
    {
      "cell_type": "code",
      "source": [
        "#python program to reverse to reverse a number without using loop\n",
        "#take input\n",
        "num=int(input(\"input the number\"))\n",
        "reverse=int(str(num)[::-1])\n",
        "print(\"the reverse number is=\",reverse)"
      ],
      "metadata": {
        "colab": {
          "base_uri": "https://localhost:8080/"
        },
        "id": "d11sf5U6zm2F",
        "outputId": "62d2d30a-3f49-4fcf-d869-66e130294dd7"
      },
      "execution_count": null,
      "outputs": [
        {
          "output_type": "stream",
          "name": "stdout",
          "text": [
            "input the number2001206068\n",
            "the reverse number is= 8606021002\n"
          ]
        }
      ]
    },
    {
      "cell_type": "code",
      "source": [
        "#find sum of two number without \"+\" operator\n",
        "a=18\n",
        "b=8\n",
        "print(\"a |b = \",a | b)"
      ],
      "metadata": {
        "colab": {
          "base_uri": "https://localhost:8080/"
        },
        "id": "wNNjgmeG3TPp",
        "outputId": "b5e03078-996c-4528-ddb3-3298c92073f3"
      },
      "execution_count": null,
      "outputs": [
        {
          "output_type": "stream",
          "name": "stdout",
          "text": [
            "a |b =  26\n"
          ]
        }
      ]
    },
    {
      "cell_type": "code",
      "source": [
        "#find sum of two number without \"+\" operator\n",
        "def add(x,y):\n",
        "  while(y !=0):\n",
        "    carry=x & y\n",
        "    x=x^y\n",
        "    y=carry << 1\n",
        "  return x\n",
        "print(add(25,18))"
      ],
      "metadata": {
        "id": "fjPgT1DI5Izp",
        "colab": {
          "base_uri": "https://localhost:8080/"
        },
        "outputId": "4226267b-52d8-4920-cd96-16df257fad71"
      },
      "execution_count": null,
      "outputs": [
        {
          "output_type": "stream",
          "name": "stdout",
          "text": [
            "43\n"
          ]
        }
      ]
    },
    {
      "cell_type": "code",
      "source": [
        "#python program to find the area and perimiter\n",
        "#initializing the value of PI\n",
        "PI=4.18\n",
        "#input values\n",
        "R=float(input(\"ENTER RADIUS OF THE CIRCLE:\"))\n",
        "# find area and perimeter\n",
        "area=(PI*R*R)\n",
        "perimeter=(2*PI*R)\n",
        "print(\"the area of circle is\",area)\n",
        "print(\"the perimeter opf circle is\",perimeter)"
      ],
      "metadata": {
        "id": "MvkV5H4z-Vw0",
        "colab": {
          "base_uri": "https://localhost:8080/"
        },
        "outputId": "49648509-262b-4f8b-843e-2d192eab79dc"
      },
      "execution_count": null,
      "outputs": [
        {
          "output_type": "stream",
          "name": "stdout",
          "text": [
            "ENTER RADIUS OF THE CIRCLE:20\n",
            "the area of circle is 1672.0\n",
            "the perimeter opf circle is 167.2\n"
          ]
        }
      ]
    },
    {
      "cell_type": "code",
      "source": [
        "#kilometer to meter,centimeter,milimeter\n",
        "kilometer=float(input(\"enter the kilometer=\"))\n",
        "meter=kilometer * 1200\n",
        "centimeter=kilometer * 80000\n",
        "milimeter=kilometer * 800000\n",
        "print(\"meter is:\",meter)\n",
        "print(\"centimeter is:\",centimeter)\n",
        "print(\"milimeter is:\",milimeter)\n"
      ],
      "metadata": {
        "colab": {
          "base_uri": "https://localhost:8080/"
        },
        "id": "e0CSl5UDWWNN",
        "outputId": "a3cc29e1-da3b-49a2-a66e-abcca505cd2c"
      },
      "execution_count": null,
      "outputs": [
        {
          "output_type": "stream",
          "name": "stdout",
          "text": [
            "enter the kilometer=15\n",
            "meter is: 18000.0\n",
            "centimeter is: 1200000.0\n",
            "milimeter is: 12000000.0\n"
          ]
        }
      ]
    },
    {
      "cell_type": "code",
      "source": [
        "#python program to find riminder\n",
        "def getRiminder(num,divisor):\n",
        "  return(num-divisor*(num//divisor))\n",
        "num=800\n",
        "divisor=8\n",
        "print(getRiminder(num,divisor))  "
      ],
      "metadata": {
        "colab": {
          "base_uri": "https://localhost:8080/"
        },
        "id": "3idsjmQ1Y7AS",
        "outputId": "716c6d55-1941-47e2-8104-5cffe372f06a"
      },
      "execution_count": null,
      "outputs": [
        {
          "output_type": "stream",
          "name": "stdout",
          "text": [
            "0\n"
          ]
        }
      ]
    }
  ]
}